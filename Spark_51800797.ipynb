{
  "nbformat": 4,
  "nbformat_minor": 0,
  "metadata": {
    "colab": {
      "name": "Spark_51800797.ipynb",
      "provenance": []
    },
    "kernelspec": {
      "name": "python3",
      "display_name": "Python 3"
    }
  },
  "cells": [
    {
      "cell_type": "code",
      "metadata": {
        "colab": {
          "base_uri": "https://localhost:8080/"
        },
        "id": "tamO3B0DCCCZ",
        "outputId": "df498237-ea47-47eb-a331-c582f1b3fd77"
      },
      "source": [
        "!pip install pyspark"
      ],
      "execution_count": 9,
      "outputs": [
        {
          "output_type": "stream",
          "text": [
            "Requirement already satisfied: pyspark in /usr/local/lib/python3.6/dist-packages (3.0.1)\n",
            "Requirement already satisfied: py4j==0.10.9 in /usr/local/lib/python3.6/dist-packages (from pyspark) (0.10.9)\n"
          ],
          "name": "stdout"
        }
      ]
    },
    {
      "cell_type": "code",
      "metadata": {
        "id": "aCHqu9w2CFDz",
        "colab": {
          "base_uri": "https://localhost:8080/"
        },
        "outputId": "bd172f6d-7ee7-4b8f-f463-58787be6ed99"
      },
      "source": [
        "import pyspark\r\n",
        "import sys\r\n",
        "from pyspark import SparkContext,SparkConf\r\n",
        "import collections\r\n",
        "from google.colab import drive\r\n",
        "import io\r\n",
        "drive.mount('/content/drive')"
      ],
      "execution_count": 49,
      "outputs": [
        {
          "output_type": "stream",
          "text": [
            "Drive already mounted at /content/drive; to attempt to forcibly remount, call drive.mount(\"/content/drive\", force_remount=True).\n"
          ],
          "name": "stdout"
        }
      ]
    },
    {
      "cell_type": "code",
      "metadata": {
        "colab": {
          "base_uri": "https://localhost:8080/"
        },
        "id": "SLu75dPcPhRc",
        "outputId": "83d77225-5059-4259-fbde-30d9cb8a69ec"
      },
      "source": [
        "os.chdir(\"/content/drive/MyDrive/test\")\r\n",
        "!ls"
      ],
      "execution_count": 31,
      "outputs": [
        {
          "output_type": "stream",
          "text": [
            "test.txt\n"
          ],
          "name": "stdout"
        }
      ]
    },
    {
      "cell_type": "code",
      "metadata": {
        "colab": {
          "base_uri": "https://localhost:8080/"
        },
        "id": "yvAzSw9eCFOo",
        "outputId": "2e5318cb-916b-4cf5-eb02-61827f35decb"
      },
      "source": [
        "conf = SparkConf().setMaster(\"local\").setAppName(\"word counting\")\r\n",
        "sc = SparkContext.getOrCreate(conf = conf)\r\n",
        "tokens = sc.textFile(\"/content/drive/MyDrive/test/test.txt\").flatMap(lambda line: line.split(\" \"))\r\n",
        "word = tokens.map(lambda word: (word, 1))\r\n",
        "print(\"So tu tren van ban: \",len(word.collect()))\r\n",
        "word_counts = word.reduceByKey(lambda a, b: a + b) \r\n",
        "print(word_counts.collect())"
      ],
      "execution_count": 72,
      "outputs": [
        {
          "output_type": "stream",
          "text": [
            "So tu tren van ban:  132\n",
            "[('hello', 1), ('this', 7), ('is', 4), ('a', 2), ('sample', 1), ('text', 4), ('file', 7), ('in', 3), ('spark', 5), ('i', 1), ('have', 2), ('some', 2), ('lines', 2), ('of', 2), ('it', 5), ('for', 2), ('test', 2), ('purpose', 1), ('only', 2), ('if', 3), ('you', 6), ('want', 1), ('to', 4), ('map', 2), ('reduce', 2), ('type', 1), ('job', 1), ('can', 3), ('use', 2), ('contains', 1), ('words', 1), ('just', 1), ('how', 1), ('works', 1), ('always', 1), ('add', 2), ('anything', 2), ('useless', 1), ('here', 1), ('and', 3), ('as', 2), ('much', 1), ('will', 2), ('not', 3), ('do', 4), ('any', 1), ('harm', 1), ('the', 1), ('humanity', 3), ('survive', 1), ('even', 1), ('does', 2), ('give', 1), ('damn', 1), ('are', 1), ('lazy', 2), ('careless', 1), ('think', 1), ('about', 1), ('also', 1), ('beforewards', 1), ('unless', 1), ('needed', 1), ('work', 1), ('when', 1), ('has', 1)]\n"
          ],
          "name": "stdout"
        }
      ]
    },
    {
      "cell_type": "code",
      "metadata": {
        "id": "JqrY5ZMxCFcg",
        "colab": {
          "base_uri": "https://localhost:8080/"
        },
        "outputId": "dc7119f5-ef94-4b45-f066-08d5962f3eb4"
      },
      "source": [
        "rdd = sc.parallelize(word_counts.collect())\r\n",
        "max_ = sc.parallelize(i[1] for i in word_counts.collect()).reduce(lambda x,y: max(x,y))\r\n",
        "remove = rdd.filter(lambda x: x[1] >= max_)\r\n",
        "print(\"K phan tu xuat hien nhieu nhat: \",remove.collect())"
      ],
      "execution_count": 70,
      "outputs": [
        {
          "output_type": "stream",
          "text": [
            "K phan tu xuat hien nhieu nhat:  [('this', 7), ('file', 7)]\n"
          ],
          "name": "stdout"
        }
      ]
    }
  ]
}